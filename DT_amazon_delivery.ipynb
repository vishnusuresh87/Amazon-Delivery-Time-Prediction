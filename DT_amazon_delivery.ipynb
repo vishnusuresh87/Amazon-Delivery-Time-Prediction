{
 "cells": [
  {
   "cell_type": "code",
   "execution_count": 9,
   "id": "cc8187d1-daab-4b9e-bec8-9b85f1d4df43",
   "metadata": {},
   "outputs": [
    {
     "name": "stdout",
     "output_type": "stream",
     "text": [
      "Best parameters {'max_depth': 15, 'min_samples_leaf': 7, 'min_samples_split': 15}\n"
     ]
    }
   ],
   "source": [
    "#importing the libraries\n",
    "import pandas as pd \n",
    "import numpy as np\n",
    "import matplotlib.pyplot as plt\n",
    "import seaborn as sns\n",
    "from sklearn.model_selection import train_test_split\n",
    "from sklearn.tree import DecisionTreeRegressor, plot_tree\n",
    "from sklearn.metrics import mean_squared_error, mean_absolute_error, r2_score   \n",
    "from sklearn.ensemble import RandomForestRegressor\n",
    "import xgboost as xgb\n",
    "#import lightgbm as lgb\n",
    "from sklearn.model_selection import GridSearchCV\n",
    "\n",
    "import warnings\n",
    "warnings.filterwarnings(\"ignore\")\n",
    "\n",
    "# Load the dataset\n",
    "train = pd.read_csv(\"train.csv\")\n",
    "test = pd.read_csv(\"test.csv\")\n",
    "validation = pd.read_csv(\"validation.csv\")\n",
    "\n",
    "\n",
    "# Selecting features and target variable\n",
    "X_train = train.drop(columns=['Unnamed: 0', 'order_year', 'Delivery_Time'])\n",
    "y_train = train['Delivery_Time']\n",
    "\n",
    "X_test = test.drop(columns=['Unnamed: 0', 'order_year', 'Delivery_Time'])\n",
    "y_test = test['Delivery_Time']\n",
    "\n",
    "X_val = validation.drop(columns=['Unnamed: 0', 'order_year', 'Delivery_Time'])\n",
    "y_val = validation['Delivery_Time']\n",
    "\n",
    "\n",
    "hp_grid = {\n",
    "    \"max_depth\": [3,5,10,15, None],\n",
    "    \"min_samples_split\" : [2,5,10,15],\n",
    "    \"min_samples_leaf\" : [1,3,5,7]\n",
    "}\n",
    "DT = DecisionTreeRegressor(random_state= 30)\n",
    "grid = GridSearchCV(estimator = DT, param_grid = hp_grid)\n",
    "grid.fit(X_train, y_train)\n",
    "print(\"Best parameters\",grid.best_params_)\n"
   ]
  },
  {
   "cell_type": "code",
   "execution_count": 8,
   "id": "8ea53b45-6581-43ed-b06a-8f0ad0b36158",
   "metadata": {},
   "outputs": [
    {
     "name": "stdout",
     "output_type": "stream",
     "text": [
      "MAE on test data: 0.073766\n",
      "MSE on test data: 0.009225\n",
      "R2 on test data: 0.769579\n"
     ]
    }
   ],
   "source": [
    "#prediction\n",
    "\n",
    "DT_opt = DecisionTreeRegressor(random_state = 29, max_depth = 15, min_samples_leaf =7, min_samples_split = 15 )\n",
    "DT_opt.fit(X_train, y_train)\n",
    "\n",
    "#measuring MAE\n",
    "y_pred = DT_opt.predict(X_test)\n",
    "print(\"MAE on test data: %f\" % (mean_absolute_error(y_test, y_pred)))\n",
    "print(\"MSE on test data: %f\" % (mean_squared_error(y_test, y_pred)))\n",
    "print(\"R2 on test data: %f\" % (r2_score(y_test, y_pred)))"
   ]
  },
  {
   "cell_type": "code",
   "execution_count": null,
   "id": "cce9b059-96d5-4875-8717-7ca520e850bc",
   "metadata": {},
   "outputs": [],
   "source": []
  }
 ],
 "metadata": {
  "kernelspec": {
   "display_name": "Python 3.13.2",
   "language": "python",
   "name": "python313"
  },
  "language_info": {
   "codemirror_mode": {
    "name": "ipython",
    "version": 3
   },
   "file_extension": ".py",
   "mimetype": "text/x-python",
   "name": "python",
   "nbconvert_exporter": "python",
   "pygments_lexer": "ipython3",
   "version": "3.13.3"
  }
 },
 "nbformat": 4,
 "nbformat_minor": 5
}
